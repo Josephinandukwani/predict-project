{
 "cells": [
  {
   "cell_type": "markdown",
   "id": "283b2af9-8e11-4a41-a5c3-693ed37e2635",
   "metadata": {},
   "source": [
    "# Section B: Practical questions with applied multiple choice\n",
    "\n"
   ]
  },
  {
   "cell_type": "markdown",
   "id": "7fadb51a",
   "metadata": {},
   "source": [
    "## General Rules:\n",
    "- This is an open book examination.\n",
    "- Students may make use of a calculator.\n",
    "- This is an online examination where you will access a computer; however you may not communicate with other students in any form.\n",
    "- Headphone are prohibited.\n",
    "- The use of AI (chatGPT etc.) is prohibited.\n",
    "- All cell phones are to be switched off for the duration of the exam.\n",
    "- The invigilator will not assist you with the explanation of questions.\n",
    "- Students are prohibited from conversing in any manner with other students."
   ]
  },
  {
   "cell_type": "markdown",
   "id": "55e4e28a",
   "metadata": {},
   "source": [
    "## My Name and Surname\n",
    "\n",
    "Name =                              \n",
    "</br>\n",
    "Surname =  "
   ]
  },
  {
   "cell_type": "markdown",
   "id": "1a211a88-95e3-4fc9-9193-4233726242ed",
   "metadata": {},
   "source": [
    "## Instructions: \n",
    "- Complete the questions below and answer the associated multiple-choice questions on Athena. It is recommended to complete each part and then answer the associated Athena questions. \n",
    "- Remember to **submit this notebook** once you have completed all the questions.\n",
    "- Please open only **one instance** of Athena when completing this exam.\n",
    "- Although this notebook will not necessarily be assessed directly, sections of it could be used to contribute to your overall portfolio of evidence.\n",
    "- Do not edit or remove the ### START FUNCTION or ### END FUNCTION comments. \n",
    "- Do not add any code outside of the code blocks you are required to edit. (use another notebook if necessary)\n",
    "- Remember the honour code, and that this is a **proctored exam**.\n",
    "\n"
   ]
  },
  {
   "cell_type": "markdown",
   "id": "9083f6c0-98c3-4729-b0af-2cb4117998b3",
   "metadata": {},
   "source": [
    "### Part 1: SQL Queries\n",
    "You are provided with a pre-populated SQLite database named `bike_store.db`. Download [here](https://github.com/Explore-AI/Public-Data/blob/master/Data/Bike_store/bike_store.db) if you haven't already. Your task is to explore this database and write a series of SQL queries to perform the tasks detailed below. Queries should be optimised to run within 20 seconds or less.\n",
    "\n",
    "\n",
    "The tables and columns included in the `bike_store.db` are:\n",
    "- `brands`: brand_id, brand_name\n",
    "- `staff`: staff_id, first_name, last_name, email, phone, active, store_id, manager_id\n",
    "- `categories`: category_id, category_name\n",
    "- `customers`: customer_id, first_name, last_name, phone, email, street, city, state, zip_code\n",
    "- `order_items`: order_id, item_id, product_id, quantity, list_price, discount\n",
    "- `orders`: order_id, customer_id, order_status, order_date, required_date, shipped_date, store_id, staff_id\n",
    "- `products`: product_id, product_name, brand_id, category_id, model_year, list_price\n",
    "- `stock`: store_id, product_id, quantity\n",
    "- `stores`: store_id, store_name, phone, email, street, city, state, zip_code"
   ]
  },
  {
   "cell_type": "code",
   "execution_count": null,
   "id": "049d3956",
   "metadata": {},
   "outputs": [],
   "source": [
    "import os\n",
    "import json\n",
    "import random\n",
    "import sqlite3\n",
    "import pandas as pd\n",
    "import numpy as np\n",
    "\n",
    "import seaborn as sns\n",
    "\n",
    "from sklearn.preprocessing import StandardScaler\n",
    "from sklearn.model_selection import train_test_split\n",
    "from sklearn.linear_model import LinearRegression\n",
    "from sklearn.metrics import r2_score, mean_squared_error\n",
    "from sklearn.preprocessing import PolynomialFeatures\n",
    "\n",
    "import matplotlib.pyplot as plt"
   ]
  },
  {
   "cell_type": "code",
   "execution_count": null,
   "id": "f1b20e51",
   "metadata": {},
   "outputs": [],
   "source": [
    "# Load your database and create a database connection.\n",
    "# You can connect to the sql database in any way you wish. \n",
    "# Use this method if you are unsure how to proceed. \n",
    "# Ensure the bike_store.db file is in the same directory as this notebook.\n",
    "try:\n",
    "    with sqlite3.connect(\"bike_store.db\") as conn:\n",
    "        print(f\"Opened SQLite database with version {sqlite3.sqlite_version} successfully.\")\n",
    "\n",
    "except sqlite3.OperationalError as e:\n",
    "    print(\"Failed to open database:\", e)\n",
    "    \n"
   ]
  },
  {
   "cell_type": "code",
   "execution_count": null,
   "id": "1d3232f1",
   "metadata": {},
   "outputs": [],
   "source": [
    "# The following tables are present in the bike_store.db file\n",
    "pd.read_sql('''SELECT name FROM sqlite_master WHERE type='table';''',conn)"
   ]
  },
  {
   "cell_type": "markdown",
   "id": "ead1c2b8-fdc6-46c6-82e9-41161f84d93a",
   "metadata": {},
   "source": [
    "#### 1.1 Determine which product has been ordered the most\n",
    "Write a function called `get_ordered_most(conn)` to find the product that has been ordered the most in terms of quantity. The result should return the product name, product_id, and the total quantity sold in a dictionary. Example output expected: `{'product_name':'Coca-Cola', 'product_id': 1, 'nr_orders':1000}`\n"
   ]
  },
  {
   "cell_type": "code",
   "execution_count": null,
   "id": "4e57fb5f-9e54-46f1-aefd-13e4d650eb7e",
   "metadata": {},
   "outputs": [],
   "source": [
    "### START FUNCTION\n",
    "def get_ordered_most(conn):\n",
    "\n",
    "### Insert your code here\n",
    "    return output\n",
    "### END FUNCTION"
   ]
  },
  {
   "cell_type": "markdown",
   "id": "394dd26e-3d01-4b33-b37f-6fd89e588ce0",
   "metadata": {},
   "source": [
    "#### 1.2 Identify which store has the widest *range* of products in stock\n",
    "Write a function called `find_store_with_most_unique_prod(conn)` to find out which store carries the most unique products (different `product_id`) in its inventory (stock). The query should return the store name and the number of different products available in a dictionary, structured as follows: {'nr_items': 100, 'store_name': 'The Suparette'} . Remember to only consider products that are in stock at each of the stores. \n",
    "\n"
   ]
  },
  {
   "cell_type": "code",
   "execution_count": null,
   "id": "4aacc1ec-0ff1-4231-a1c7-9f277b52bfd6",
   "metadata": {},
   "outputs": [],
   "source": [
    "### START FUNCTION\n",
    "def find_store_with_most_unique_prod(conn): \n",
    "### Insert your code here\n",
    "    return output\n",
    "### END FUNCTION"
   ]
  },
  {
   "cell_type": "markdown",
   "id": "d1ec3aca-7754-4aa0-8e80-af4981ce32e0",
   "metadata": {},
   "source": [
    "#### 1.3 Determine how many unique users ordered a specific product\n",
    "Create a function `find_unique_customers_for_prod(conn)` to find out how many unique customers ordered a specific product - the one with product_id = 6. Return the output (number of customers and product_id) in a dictionary with the following structure: `{'nr_unique_customers': 200, 'product_id': 1000}`\n"
   ]
  },
  {
   "cell_type": "code",
   "execution_count": null,
   "id": "6f8d6e16-0070-4fe0-9e30-2c82ab7c1a79",
   "metadata": {},
   "outputs": [],
   "source": [
    "### START FUNCTION\n",
    "def find_unique_customers_for_prod(conn):\n",
    "\n",
    "### Insert your code here\n",
    "   return output\n",
    "### END FUNCTION"
   ]
  },
  {
   "cell_type": "markdown",
   "id": "da805f80-ba58-4fb1-9a62-e8e506ddb74a",
   "metadata": {},
   "source": [
    "#### 1.4 Identify the state where most orders were shipped to. \n",
    "Create a function `find_state_with_most_orders(conn)` to identify the state where most orders were shipped to. Assume that the orders are shipped to the state provided in the customers' address. Return the number of orders and the state as a dictionary. Example output: `{'max_orders': 10, 'state': 'CO'}`\n"
   ]
  },
  {
   "cell_type": "code",
   "execution_count": null,
   "id": "78d29571-35b2-4e56-b07a-2725ed371e42",
   "metadata": {},
   "outputs": [],
   "source": [
    "### START FUNCTION\n",
    "def find_state_with_most_orders(conn):\n",
    "\n",
    "### Insert your code here\n",
    "   return output\n",
    "\n",
    "### END FUNCTION"
   ]
  },
  {
   "cell_type": "markdown",
   "id": "e1e98564-4e83-419e-b210-f2fa1dad0987",
   "metadata": {},
   "source": [
    "#### 1.5 Find the brand with the highest quantity in inventory (stock) across all stores\n",
    "Create a function `find_highest_stock_and_brand(conn):`to find the brand with the highest number of products in stock across the stores. `conn` refers to the database connection we created earlier. Return the **brand** and the **number of items** in stock for that brand as a dictionary. Example output: `{'max_stock': 1000, 'brand_name': 'Coca-Cola'}`"
   ]
  },
  {
   "cell_type": "code",
   "execution_count": null,
   "id": "f5ff9cc7",
   "metadata": {},
   "outputs": [],
   "source": [
    "### START FUNCTION\n",
    "def find_highest_stock_and_brand(conn):\n",
    "\n",
    "### Insert your code here\n",
    "   return output\n",
    "### END FUNCTION"
   ]
  },
  {
   "cell_type": "markdown",
   "id": "3ef32b40-837a-49fd-8653-f954afb0bd87",
   "metadata": {},
   "source": [
    "### Part 2: Database Population and Data Validation\n",
    "#### 2.1 Database Population\n",
    "You are provided with a file named [`books_data.json`](https://github.com/Explore-AI/Public-Data/blob/master/Data/books_data.json) which contains unstructured data from an online bookstore. Your task is to explore this file, structure, and validate the data as needed to perform the tasks detailed below.\n",
    "\n"
   ]
  },
  {
   "cell_type": "markdown",
   "id": "ad55e9fd-3709-43ad-bb5a-8d2841625b8f",
   "metadata": {},
   "source": [
    "#### 2.1.1 Below is a Python script that creates an SQLite database named books.db with the following tables and the appropriate primary and foreign keys to maintain relationships between the tables\n",
    "\n",
    "- `Categories`: Stores the category name of each book\n",
    "- `Books`: Stores the title, price, rating, category ID, and description of each book.\n",
    "- `Stock`: Stores the stock status (in stock or not) and the stock count for each book.\n",
    "- `ProductIDs`: Stores the unique product ID (UPC) for each book.\n"
   ]
  },
  {
   "cell_type": "code",
   "execution_count": null,
   "id": "d6e12e74-0dc1-4048-8b00-e01fe9dffaaf",
   "metadata": {},
   "outputs": [],
   "source": [
    "import os\n",
    "import json\n",
    "import sqlite3\n",
    "\n",
    "\n",
    "def load_books_data():\n",
    "    if not os.path.exists('books_data.json'):\n",
    "        raise FileNotFoundError('books_data.json not found')\n",
    "\n",
    "\n",
    "    with open('books_data.json', 'r') as f:\n",
    "        books_data = json.load(f)\n",
    "\n",
    "\n",
    "    return books_data\n",
    "\n",
    "\n",
    "def create_db(conn, cursor):\n",
    "    cursor.execute('''\n",
    "    CREATE TABLE Categories (\n",
    "        category_id INTEGER PRIMARY KEY AUTOINCREMENT,\n",
    "        category_name TEXT UNIQUE\n",
    "    )\n",
    "    ''')\n",
    "\n",
    "\n",
    "    cursor.execute('''\n",
    "    CREATE TABLE Books (\n",
    "        book_id INTEGER PRIMARY KEY AUTOINCREMENT,\n",
    "        title TEXT,\n",
    "        price REAL,\n",
    "        rating INTEGER,\n",
    "        category_id INTEGER,\n",
    "        description TEXT,\n",
    "        FOREIGN KEY (category_id) REFERENCES Categories(category_id)\n",
    "    )\n",
    "    ''')\n",
    "\n",
    "\n",
    "    cursor.execute('''\n",
    "    CREATE TABLE Stock (\n",
    "        book_id INTEGER,\n",
    "        in_stock BOOLEAN,\n",
    "        stock_count INTEGER,\n",
    "        FOREIGN KEY (book_id) REFERENCES Books(book_id)\n",
    "    )\n",
    "    ''')\n",
    "\n",
    "\n",
    "    cursor.execute('''\n",
    "    CREATE TABLE ProductIDs (\n",
    "        book_id INTEGER,\n",
    "        product_id TEXT,\n",
    "        FOREIGN KEY (book_id) REFERENCES Books(book_id)\n",
    "    )\n",
    "    ''')\n",
    "\n",
    "    conn.commit()\n",
    "\n",
    "    return conn, cursor"
   ]
  },
  {
   "cell_type": "markdown",
   "id": "f882b79c-ba7d-460b-9311-293ad722f278",
   "metadata": {},
   "source": [
    "#### 2.1.2 Below is a Python script to structure and insert the unstructured data from `books_data.json` into `books.db`\n",
    "- Data are be written to the most suitable table.\n",
    "- Data are linked via suitable foreign keys."
   ]
  },
  {
   "cell_type": "code",
   "execution_count": null,
   "id": "5a42c882-aa46-4c9f-8cc8-24c6365d54c5",
   "metadata": {},
   "outputs": [],
   "source": [
    "def insert_data(conn, cursor, books_data):\n",
    "    for book in books_data:\n",
    "        category = book['category']\n",
    "\n",
    "\n",
    "        # Insert or ignore the category (Avoids duplicate entries)\n",
    "        cursor.execute('''\n",
    "        INSERT OR IGNORE INTO Categories (category_name)\n",
    "        VALUES (?)\n",
    "        ''', (category,))\n",
    "\n",
    "\n",
    "        # Get the category_id\n",
    "        cursor.execute('''\n",
    "        SELECT category_id FROM Categories WHERE category_name = ?\n",
    "        ''', (category,))\n",
    "        category_id = cursor.fetchone()[0]\n",
    "\n",
    "\n",
    "        # Insert the book details\n",
    "        cursor.execute('''\n",
    "        INSERT INTO Books (title, price, rating, category_id, description)\n",
    "        VALUES (?, ?, ?, ?, ?)\n",
    "        ''', (book['title'], book['price'], book['rating'], category_id, book['description']))\n",
    "\n",
    "\n",
    "        # Get the book_id\n",
    "        cursor.execute('''\n",
    "        SELECT book_id FROM Books WHERE title = ?\n",
    "        ''', (book['title'],))\n",
    "        book_id = cursor.fetchone()[0]\n",
    "\n",
    "\n",
    "        # Insert the stock details\n",
    "        cursor.execute('''\n",
    "        INSERT INTO Stock (book_id, in_stock, stock_count)\n",
    "        VALUES (?, ?, ?)\n",
    "        ''', (book_id, book['in_stock'], book['stock_count']))\n",
    "\n",
    "\n",
    "        # Insert the product_id\n",
    "        cursor.execute('''\n",
    "        INSERT INTO ProductIDs (book_id, product_id)\n",
    "        VALUES (?, ?)\n",
    "        ''', (book_id, book['product_id']))\n",
    "\n",
    "\n",
    "    conn.commit()\n",
    "\n",
    "\n",
    "    return conn, cursor\n",
    "\n",
    "\n",
    "if __name__ == '__main__':\n",
    "    books_data = load_books_data()\n",
    "\n",
    "\n",
    "    conn = sqlite3.connect('books.db')\n",
    "    cursor = conn.cursor()\n",
    "\n",
    "\n",
    "    # 2.1.1. Write a python script that creates an SQLite database named books.db\n",
    "    conn, cursor = create_db(conn, cursor)\n",
    "    \n",
    "    # 2.1.2. Write a python script to structure and insert the unstructured data from books_data.json into books.db\n",
    "    conn, cursor = insert_data(conn, cursor, books_data)"
   ]
  },
  {
   "cell_type": "code",
   "execution_count": null,
   "id": "46a0e14f",
   "metadata": {},
   "outputs": [],
   "source": [
    "conn, cursor = insert_data(conn, cursor, books_data)"
   ]
  },
  {
   "cell_type": "markdown",
   "id": "95fdd2cf-7ff7-4f8a-9d24-3722b724f2cb",
   "metadata": {},
   "source": [
    "### 2.2 Data Validation\n",
    "Using books.db, write a series of SQL queries to perform the tasks detailed below to validate the data.\n",
    "\n"
   ]
  },
  {
   "cell_type": "markdown",
   "id": "7eb9d9fa-5b2b-4d95-ae71-670796a3e6f3",
   "metadata": {},
   "source": [
    "#### 2.2.1 Get all books in a category\n",
    "Write a Python function `get_books_by_category(cursor, category_name)` that, given a category name, returns a list of books (title and price) that belong to that category from the Books table. The function should return a list tuples in the following format: `[('Book1', 20),('Book2', 5)]`"
   ]
  },
  {
   "cell_type": "code",
   "execution_count": null,
   "id": "33c9c302-25c6-44b7-8a65-dda779cbd661",
   "metadata": {},
   "outputs": [],
   "source": [
    "### START FUNCTION\n",
    "def get_books_by_category(cursor, category_name):\n",
    "### Insert your code here\n",
    "    return output\n",
    "### END FUNCTION"
   ]
  },
  {
   "cell_type": "markdown",
   "id": "df1f8bc7-de5f-4a81-a45e-32aabc4f3f11",
   "metadata": {},
   "source": [
    "#### 2.2.2 Check stock status for a book\n",
    "Write a Python function that, given a book title, checks if the book is currently in stock by querying the Stock table. The function should return a True / False answer. "
   ]
  },
  {
   "cell_type": "code",
   "execution_count": null,
   "id": "756871e2-46ed-46d9-b944-e65ac03e34d9",
   "metadata": {},
   "outputs": [],
   "source": [
    "### START FUNCTION\n",
    "def is_book_in_stock(cursor, book_title):\n",
    "### Insert your code here\n",
    "    return output\n",
    "### END FUNCTION"
   ]
  },
  {
   "cell_type": "markdown",
   "id": "173bf22e-1ab2-4c01-8850-60ba6c645d73",
   "metadata": {},
   "source": [
    "#### 2.2.3 Find the average rating for each category\n",
    "Write a Python function that, given a category name, calculates the average rating of all books in that category.\n"
   ]
  },
  {
   "cell_type": "code",
   "execution_count": null,
   "id": "f0aa3558-2751-400f-be27-135bb40de6df",
   "metadata": {},
   "outputs": [],
   "source": [
    "### START FUNCTION\n",
    "def get_average_rating_by_category(cursor, category_name):\n",
    "### Insert your code here\n",
    "    return avg_rating\n",
    "### END FUNCTION"
   ]
  },
  {
   "cell_type": "markdown",
   "id": "20ffe5a5-416a-4ef2-8329-54455a21c489",
   "metadata": {},
   "source": [
    "#### 2.2.4 Find books that are below a certain price\n",
    "Write a Python function that retrieves the title and price of all books that are priced below a given threshold. The function should return a list tuples in the following format: `[('Book1', 20),('Book2', 5)]`\n"
   ]
  },
  {
   "cell_type": "code",
   "execution_count": null,
   "id": "2609cb7d-f1ed-424b-bcdb-2c4233a38cdf",
   "metadata": {},
   "outputs": [],
   "source": [
    "### START FUNCTION\n",
    "def get_books_below_price(cursor, price):\n",
    "### Insert your code here\n",
    "    return books\n",
    "### END FUNCTION"
   ]
  },
  {
   "cell_type": "markdown",
   "id": "2d9590f7-1b2b-4fd1-a536-792f44b39214",
   "metadata": {},
   "source": [
    "#### 2.2.5 Identify the best-stocked book within a specific category\n",
    "Write a Python function that, given a category name, finds the book with the highest stock count in that category. Return only the first row if multiple books share the same stock count. The output should be in the format of a tuple, listing the title and stock count. \n"
   ]
  },
  {
   "cell_type": "code",
   "execution_count": null,
   "id": "f2486c7d-6e36-46b6-9d62-fef95d791985",
   "metadata": {},
   "outputs": [],
   "source": [
    "### START FUNCTION\n",
    "def get_most_stocked_book_by_category(cursor, category_name):\n",
    "### Insert your code here\n",
    "    return most_stocked_book\n",
    "### END FUNCTION"
   ]
  },
  {
   "cell_type": "markdown",
   "id": "a4dc44eb-f0f6-4f4f-b3d6-0b205014395a",
   "metadata": {},
   "source": [
    "### Part 3: Wine Quality Dataset Analysis\n",
    "\n"
   ]
  },
  {
   "cell_type": "markdown",
   "id": "a549c689",
   "metadata": {},
   "source": [
    "You are provided with a [file](https://github.com/Explore-AI/Public-Data/blob/master/Data/winequality-red.csv) named winequality-red.csv which is a dataset related to red vinho verde wine samples, from the north of Portugal. \n",
    "\n",
    "Your goal is to explore this dataset. Clean it if necessary. Identify any biases. Then perform a series of regression analyses to uncover trends. Detect potential biases due to excluded variables, and finally make predictions on wine quality."
   ]
  },
  {
   "cell_type": "markdown",
   "id": "ee12a283-5bb2-427d-878b-f42d1090beb1",
   "metadata": {},
   "source": [
    "#### 3.1 Loading the Dataset and Data Preparation"
   ]
  },
  {
   "cell_type": "markdown",
   "id": "d49730bc-4789-462d-a9f7-8d2264deb787",
   "metadata": {},
   "source": [
    "#### 3.1.1 Data loading\n",
    "Create a function that loads the dataset using `pandas.DataFrame` and ensure the data is correctly formatted (i.e., all columns should be numeric). The function should return the dataframe. "
   ]
  },
  {
   "cell_type": "code",
   "execution_count": null,
   "id": "583652be-3553-4c91-9ea4-47917433fda1",
   "metadata": {},
   "outputs": [],
   "source": [
    "### START FUNCTION\n",
    "# where DATA_PATH refers to the path where you stored the csv file\n",
    "def load_data(DATA_PATH):\n",
    "### Insert your code here\n",
    "    return data\n",
    "\n",
    "### END FUNCTION"
   ]
  },
  {
   "cell_type": "markdown",
   "id": "7b567045-a5c6-45db-9da4-883e62ca63af",
   "metadata": {},
   "source": [
    "#### 3.1.2 Data Preparation\n",
    "Write a function to separate the target variable (`quality`) from the features and prepare the data for further analysis (e.g., scaling or normalisation if necessary). Your function should return a dataframe (data), and the target variable series."
   ]
  },
  {
   "cell_type": "code",
   "execution_count": null,
   "id": "28e9baf3-3bf5-47cb-9118-74927e9e7ea3",
   "metadata": {},
   "outputs": [],
   "source": [
    "### START FUNCTION\n",
    "def process_data(data):\n",
    "\n",
    "### Insert your code here\n",
    "    return data, wine_quality\n",
    "\n",
    "### END FUNCTION"
   ]
  },
  {
   "cell_type": "markdown",
   "id": "0cc428a5-d8a1-4eee-af36-ceaee2cbbdbc",
   "metadata": {},
   "source": [
    "#### 3.2 Visualisations and Exploratory Data Analysis\n",
    "Analyse the distribution of classes and the relationships between features to identify patterns or biases in the data."
   ]
  },
  {
   "cell_type": "markdown",
   "id": "de73d007-45af-4f23-836b-87c8b05f46cc",
   "metadata": {},
   "source": [
    "#### 3.2.1 Class Distribution Visualisation\n",
    "Implement a function that visualises the distribution of the wine quality classes. This will help identify any imbalances in the dataset. Make sure to return the figure.\n"
   ]
  },
  {
   "cell_type": "code",
   "execution_count": null,
   "id": "27db2a59-e500-4518-ac0d-1f5e3732d3ca",
   "metadata": {},
   "outputs": [],
   "source": [
    "### START FUNCTION\n",
    "def class_distribution_check(data, quality):\n",
    "### Insert your code here\n",
    "    return fig\n",
    "\n",
    "### END FUNCTION"
   ]
  },
  {
   "cell_type": "markdown",
   "id": "d95e585d-d9d3-40b3-9e3e-d480fdf9746f",
   "metadata": {},
   "source": [
    "#### 3.2.2 Feature Distribution and Outlier Detection\n",
    "Write a function that creates box plots for each feature to visualise the distribution of values and detect any outliers. Return the figure."
   ]
  },
  {
   "cell_type": "code",
   "execution_count": null,
   "id": "b8ad2a11-6836-40da-93b4-713e6c0b4dff",
   "metadata": {},
   "outputs": [],
   "source": [
    "### START FUNCTION\n",
    "def feature_distribution_and_outliers(data):\n",
    "### Insert your code here\n",
    "    return fig\n",
    "\n",
    "### END FUNCTION"
   ]
  },
  {
   "cell_type": "markdown",
   "id": "9c368805-2e86-4c69-af96-0e96df54d2d7",
   "metadata": {},
   "source": [
    "#### 3.2.3 Correlation Heatmap\n",
    "Create a function that generates a heatmap that shows the correlation (relationship) between features and the target variable (`quality`). This will help you understand which features are most important to the prediction of wine quality."
   ]
  },
  {
   "cell_type": "code",
   "execution_count": null,
   "id": "bc1d9fce-5175-45b6-954c-1b7d8e4679b1",
   "metadata": {},
   "outputs": [],
   "source": [
    "### START FUNCTION\n",
    "def correlation_analysis(data, quality):\n",
    "### Insert your code here\n",
    "    return fig\n",
    "\n",
    "### END FUNCTION"
   ]
  },
  {
   "cell_type": "markdown",
   "id": "d9576491-adac-4ea9-b7fb-6900cb259be2",
   "metadata": {},
   "source": [
    "#### 3.3 Regression Models"
   ]
  },
  {
   "cell_type": "markdown",
   "id": "c1455cf0",
   "metadata": {},
   "source": [
    "Apply different regression techniques to predict wine quality based on the dataset, evaluate the performance of their models, and visualise the results."
   ]
  },
  {
   "cell_type": "markdown",
   "id": "3b57d837-75c3-40b6-a271-9f4837cfd815",
   "metadata": {},
   "source": [
    "#### 3.3.1 Simple Linear Regression\n",
    "Implement a simple linear regression model using one feature, `sulphates`, to predict wine quality. Calculate the model metrics (R-squared and MSE) and visualise the regression line and the residuals on two separate graphs. Use a test_size= 0.2 and set random_state=42. The function must return the model, the 2 figures, the R-squared and Mean Squared Error."
   ]
  },
  {
   "cell_type": "code",
   "execution_count": null,
   "id": "b843c0fd-0668-4e95-a0b2-ab33601d1d61",
   "metadata": {},
   "outputs": [],
   "source": [
    "### START FUNCTION\n",
    "def perform_simple_regression(df, feature='sulphates'):\n",
    "### Insert your code here\n",
    "    return model, fig, fig_res, r2_score(y_test, y_pred), mean_squared_error(y_test, y_pred)\n",
    "\n",
    "### END FUNCTION"
   ]
  },
  {
   "cell_type": "markdown",
   "id": "6b589e2a-763a-4d3b-9329-2b4831ac4dbe",
   "metadata": {},
   "source": [
    "#### 3.3.2 Multiple Linear Regression\n",
    "Write a function to perform multiple linear regression using the following features: [`alcohol`, `volatile acidity`, `sulphates`, `citric acid`] to predict wine quality. Calculate the model metrics (R-squared and MSE) and visualise the model coefficients using a bar plot. Use a `test_size=0.2` and set `random_state=42`. The function must return the model, the figure, the R-squared and Mean Squared Error. "
   ]
  },
  {
   "cell_type": "code",
   "execution_count": null,
   "id": "dd2f540c-e273-43be-ae66-85ea7aab1e9b",
   "metadata": {},
   "outputs": [],
   "source": [
    "### START FUNCTION\n",
    "def perform_multiple_regression(df, features=['alcohol', 'volatile acidity', 'sulphates', 'citric acid']):\n",
    "### Insert your code here\n",
    "    return model, fig, r2_score(y_test, y_pred), mean_squared_error(y_test, y_pred)\n",
    "\n",
    "### END FUNCTION"
   ]
  },
  {
   "cell_type": "markdown",
   "id": "7a9748e0-79eb-4bda-85d2-267d3acdbdb4",
   "metadata": {},
   "source": [
    "#### 3.3.3. Polynomial Regression\n",
    "Create a polynomial regression model using one feature, `sulphates`, with a degree of 2. Use a `test_size=0.2` and set `random_state=42`. The function must return the model, the figure, the R-squared and Mean Squared Error. Compare its performance to the simple linear regression model."
   ]
  },
  {
   "cell_type": "code",
   "execution_count": null,
   "id": "8e9ecbd0-bc4d-411b-aa2c-e38022335704",
   "metadata": {},
   "outputs": [],
   "source": [
    "### START FUNCTION\n",
    "def perform_polynomial_regression(df, feature, degree=2):\n",
    "### Insert your code here\n",
    "    return model, fig, r2_score(y_test, y_pred), mean_squared_error(y_test, y_pred)\n",
    "\n",
    "### END FUNCTION"
   ]
  },
  {
   "cell_type": "markdown",
   "id": "e31c6666",
   "metadata": {},
   "source": [
    "### END"
   ]
  }
 ],
 "metadata": {
  "kernelspec": {
   "display_name": "Python 3",
   "language": "python",
   "name": "python3"
  },
  "language_info": {
   "codemirror_mode": {
    "name": "ipython",
    "version": 3
   },
   "file_extension": ".py",
   "mimetype": "text/x-python",
   "name": "python",
   "nbconvert_exporter": "python",
   "pygments_lexer": "ipython3",
   "version": "3.11.4"
  }
 },
 "nbformat": 4,
 "nbformat_minor": 5
}
