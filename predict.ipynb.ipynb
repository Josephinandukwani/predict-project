{
 "cells": [
  {
   "cell_type": "markdown",
   "metadata": {},
   "source": [
    "# QCTO - Workplace Module\n",
    "\n",
    "### Project Title: vegetable prices\n",
    "#### Done By: josephina  Ndukwani\n",
    "https://trello.com/b/QdZgzM3U/predict-project-on-vegetables-prices  link to trello board\n",
    "https://github.com/Josephinandukwani/predict-project.git link to git hub\n",
    "\n",
    "© ExploreAI 2024\n",
    "\n",
    "\n",
    "## Table of Contents\n",
    "\n",
    "<a href=#BC> Background Context</a>\n",
    "\n",
    "<a href=#one>1. Importing Packages</a>\n",
    "\n",
    "<a href=#two>2. Data Collection and Description</a>\n",
    "\n",
    "<a href=#three>3. Loading Data </a>\n",
    "\n",
    "<a href=#four>4. Data Cleaning and Filtering</a>\n",
    "\n",
    "<a href=#five>5. Exploratory Data Analysis (EDA)</a>\n",
    "\n",
    "<a href=#six>6. Modeling </a>\n",
    "\n",
    "<a href=#seven>7. Evaluation and Validation</a>\n",
    "\n",
    "<a href=#eight>8. Final Model</a>\n",
    "\n",
    "<a href=#nine>9. Conclusion and Future Work</a>\n",
    "\n",
    "<a href=#ten>10. References</a>"
   ]
  },
  {
   "cell_type": "markdown",
   "metadata": {},
   "source": [
    "\n",
    "## **Introduction**\n",
    "\n",
    "\n",
    "In this project, i aim to explore the pricing data of various vegetables in order to gain insights into their market trends and behavior. To begin, i import the necessary libraries and data, and then clean and inspect the data to ensure its quality and suitability for analysis. i create a copy of the dataframe as a checkpoint, and then change the data types to be more suitable for our analysis objectives. Next, i conduct exploratory data analysis (EDA) to gain a deeper understanding of the data.\n",
    "\n",
    "## Problem Statement\n",
    "\n",
    "The problem statement is to analyze the pricing data of various vegetables and identify the key patterns and trends. The dataset contains information about the prices of different vegetable types, including Bhindi (Ladies finger), Tomato, Onion, Potato, Brinjal, Garlic, Peas, Methi, Green Chilli, and Elephant Yam (Suran). The analysis aims to answer questions such as:\n",
    "\n",
    "* What is the distribution of prices for each vegetable type?\n",
    "* Are there any outliers in the data?\n",
    "* Which vegetable types have a higher average price?\n",
    "* Are there any patterns or trends in the data that can be used to make informed decisions?"
   ]
  },
  {
   "cell_type": "markdown",
   "metadata": {},
   "source": [
    "\n",
    "## **Importing Packages**\n"
   ]
  },
  {
   "cell_type": "code",
   "execution_count": 6,
   "metadata": {},
   "outputs": [],
   "source": [
    "import pandas as pd\n",
    "import numpy as np\n",
    "import matplotlib.pyplot as plt\n",
    "import seaborn as sns\n",
    "from sklearn.model_selection import train_test_split\n",
    "from sklearn.preprocessing import StandardScaler\n",
    "from sklearn.linear_model import LogisticRegression\n"
   ]
  },
  {
   "cell_type": "markdown",
   "metadata": {},
   "source": [
    "\n",
    "\n",
    "## **Data Collection and Description**\n",
    "\n",
    "\n",
    "The purpose of data collection for this project is to analyze vegetable price trends across different regions in India. The collected data provides insights into fluctuations in vegetable prices, allowing for a better understanding of regional price variations and potential factors affecting pricing.The data was sourced from Agmarknet, an open government database that tracks agricultural commodity prices across India. The dataset includes pricing information for various vegetables from multiple markets.it consist of 287 rows and 11 columns,\"The dataset contains both numerical and categorical data, \n"
   ]
  },
  {
   "cell_type": "markdown",
   "metadata": {},
   "source": [
    "\n",
    "## **Loading Data**\n",
    "\n",
    "the purpose of this section is to load the raw data into the notebook for further manipulation and analysis.\n",
    "In this code, i use pandas to load the dataset from a file named prices.csv into a DataFrame named pddf. This allows me to easily manipulate and analyze the data. Once loaded, the dataset can be inspected, cleaned, and processed as needed."
   ]
  },
  {
   "cell_type": "code",
   "execution_count": 8,
   "metadata": {},
   "outputs": [],
   "source": [
    "import pandas as pd\n",
    "\n",
    "# Load the CSV file into a DataFrame\n",
    "pddf = pd.read_csv(\"prices.csv\")"
   ]
  },
  {
   "cell_type": "markdown",
   "metadata": {},
   "source": [
    "first few rows of the data frame"
   ]
  },
  {
   "cell_type": "code",
   "execution_count": 9,
   "metadata": {},
   "outputs": [
    {
     "data": {
      "text/plain": [
       "<bound method DataFrame.info of     Price Dates  Bhindi (Ladies finger)  Tomato  Onion  Potato  Brinjal  \\\n",
       "0    01-01-2023                    35.0      18   22.0      20       30   \n",
       "1    02-01-2023                    35.0      16   22.0      20       30   \n",
       "2    03-01-2023                    35.0      16   21.0      20       30   \n",
       "3    04-01-2023                    30.0      16   21.0      22       25   \n",
       "4    08-01-2023                    35.0      16   20.0      21       25   \n",
       "..          ...                     ...     ...    ...     ...      ...   \n",
       "282  27-12-2023                    45.0      16   30.0      20       70   \n",
       "283  28-12-2023                    45.0      16   30.0      20       70   \n",
       "284  29-12-2023                    45.0      16   30.0      22       80   \n",
       "285  31-12-2023                    45.0      16   26.0      20       60   \n",
       "286  01-01-2024                    45.0      16    9.0      18       50   \n",
       "\n",
       "     Garlic  Peas  Methi  Green Chilli  Elephant Yam (Suran)  \n",
       "0        50    25      8          45.0                    25  \n",
       "1        55    25      7          40.0                    25  \n",
       "2        55    25      7          40.0                    25  \n",
       "3        55    25      7          40.0                    25  \n",
       "4        55    22      6          35.0                    25  \n",
       "..      ...   ...    ...           ...                   ...  \n",
       "282     260    40     16          40.0                    25  \n",
       "283     260    30     20          45.0                    25  \n",
       "284     260    30     18          50.0                    25  \n",
       "285     250    40     16          50.0                    40  \n",
       "286     260    40     15          60.0                    25  \n",
       "\n",
       "[287 rows x 11 columns]>"
      ]
     },
     "execution_count": 9,
     "metadata": {},
     "output_type": "execute_result"
    }
   ],
   "source": [
    "pddf.info"
   ]
  },
  {
   "cell_type": "code",
   "execution_count": 10,
   "metadata": {},
   "outputs": [
    {
     "name": "stdout",
     "output_type": "stream",
     "text": [
      "       Bhindi (Ladies finger)      Tomato       Onion      Potato     Brinjal  \\\n",
      "count              287.000000  287.000000  287.000000  287.000000  287.000000   \n",
      "mean                29.444251   16.006969   20.649826   18.585366   31.655052   \n",
      "std                  8.124815    0.118056   11.711204    2.726238   11.725421   \n",
      "min                 17.000000   16.000000    8.000000   12.000000   14.000000   \n",
      "25%                 22.000000   16.000000   12.000000   16.000000   25.000000   \n",
      "50%                 27.500000   16.000000   16.000000   20.000000   30.000000   \n",
      "75%                 33.000000   16.000000   25.000000   20.000000   35.000000   \n",
      "max                 60.000000   18.000000   57.000000   24.000000   80.000000   \n",
      "\n",
      "           Garlic        Peas        Methi  Green Chilli  Elephant Yam (Suran)  \n",
      "count  287.000000  287.000000   287.000000    287.000000            287.000000  \n",
      "mean   133.101045   66.658537    20.383275     44.122404             28.797909  \n",
      "std     60.078331   33.302415   117.428417     12.796590              6.607973  \n",
      "min     50.000000   22.000000     5.000000      0.130000             12.000000  \n",
      "25%     85.000000   40.000000     8.000000     35.000000             25.000000  \n",
      "50%    120.000000   60.000000    12.000000     40.000000             30.000000  \n",
      "75%    165.000000   80.000000    16.000000     50.000000             30.000000  \n",
      "max    290.000000  150.000000  2000.000000     90.000000             50.000000  \n"
     ]
    }
   ],
   "source": [
    "print(pddf.describe())"
   ]
  },
  {
   "cell_type": "code",
   "execution_count": 11,
   "metadata": {},
   "outputs": [
    {
     "name": "stdout",
     "output_type": "stream",
     "text": [
      "  Price Dates  Bhindi (Ladies finger)  Tomato  Onion  Potato  Brinjal  Garlic  \\\n",
      "0  01-01-2023                    35.0      18   22.0      20       30      50   \n",
      "1  02-01-2023                    35.0      16   22.0      20       30      55   \n",
      "2  03-01-2023                    35.0      16   21.0      20       30      55   \n",
      "3  04-01-2023                    30.0      16   21.0      22       25      55   \n",
      "4  08-01-2023                    35.0      16   20.0      21       25      55   \n",
      "\n",
      "   Peas  Methi  Green Chilli  Elephant Yam (Suran)  \n",
      "0    25      8          45.0                    25  \n",
      "1    25      7          40.0                    25  \n",
      "2    25      7          40.0                    25  \n",
      "3    25      7          40.0                    25  \n",
      "4    22      6          35.0                    25  \n"
     ]
    }
   ],
   "source": [
    "\n",
    "print(pddf.head())"
   ]
  },
  {
   "cell_type": "code",
   "execution_count": 12,
   "metadata": {},
   "outputs": [
    {
     "name": "stdout",
     "output_type": "stream",
     "text": [
      "Price Dates                object\n",
      "Bhindi (Ladies finger)    float64\n",
      "Tomato                      int64\n",
      "Onion                     float64\n",
      "Potato                      int64\n",
      "Brinjal                     int64\n",
      "Garlic                      int64\n",
      "Peas                        int64\n",
      "Methi                       int64\n",
      "Green Chilli              float64\n",
      "Elephant Yam (Suran)        int64\n",
      "dtype: object\n"
     ]
    }
   ],
   "source": [
    "print(pddf.dtypes)"
   ]
  },
  {
   "cell_type": "markdown",
   "metadata": {},
   "source": [
    "\n",
    "## **Data Cleaning and Filtering**\n",
    "The purpose of this section is to prepare the dataset for analysis by performing essential data cleaning tasks such as handling missing values, removing outliers, correcting errors, and filtering the data to focus on relevant features."
   ]
  },
  {
   "cell_type": "markdown",
   "metadata": {},
   "source": [
    "Handling missing values"
   ]
  },
  {
   "cell_type": "code",
   "execution_count": 13,
   "metadata": {},
   "outputs": [
    {
     "name": "stdout",
     "output_type": "stream",
     "text": [
      "Price Dates               0\n",
      "Bhindi (Ladies finger)    0\n",
      "Tomato                    0\n",
      "Onion                     0\n",
      "Potato                    0\n",
      "Brinjal                   0\n",
      "Garlic                    0\n",
      "Peas                      0\n",
      "Methi                     0\n",
      "Green Chilli              0\n",
      "Elephant Yam (Suran)      0\n",
      "dtype: int64\n"
     ]
    }
   ],
   "source": [
    "\n",
    "# Now check for missing values\n",
    "print(pddf.isnull().sum())"
   ]
  },
  {
   "cell_type": "code",
   "execution_count": 14,
   "metadata": {},
   "outputs": [
    {
     "name": "stdout",
     "output_type": "stream",
     "text": [
      "DataFrame after correcting errors:\n",
      "  Price Dates  Bhindi (Ladies finger)  Tomato  Onion  Potato  Brinjal  Garlic  \\\n",
      "0  2023-01-01                    35.0    18.0   22.0      20       30      50   \n",
      "1  2023-01-02                    35.0    16.0   22.0      20       30      55   \n",
      "2  2023-01-03                    35.0    16.0   21.0      20       30      55   \n",
      "3  2023-01-04                    30.0    16.0   21.0      22       25      55   \n",
      "4  2023-01-08                    35.0    16.0   20.0      21       25      55   \n",
      "\n",
      "   Peas  Methi  Green Chilli  Elephant Yam (Suran)  \n",
      "0    25      8          45.0                    25  \n",
      "1    25      7          40.0                    25  \n",
      "2    25      7          40.0                    25  \n",
      "3    25      7          40.0                    25  \n",
      "4    22      6          35.0                    25  \n"
     ]
    }
   ],
   "source": [
    "\n",
    "# Convert 'Price Dates' to datetime\n",
    "pddf['Price Dates'] = pd.to_datetime(pddf['Price Dates'], format='%d-%m-%Y')\n",
    "\n",
    "# Example: Correct a specific error (e.g., negative prices should be NaN)\n",
    "# Assuming 'Tomato' prices shouldn't be negative\n",
    "pddf.loc[pddf['Tomato'] < 0, 'Tomato'] = None\n",
    "\n",
    "# Print DataFrame after correcting errors\n",
    "print(\"DataFrame after correcting errors:\")\n",
    "print(pddf.head())"
   ]
  },
  {
   "cell_type": "markdown",
   "metadata": {},
   "source": [
    "---\n",
    "<a href=#five></a>\n",
    "## **Exploratory Data Analysis (EDA)**\n",
    "<a href=#cont>Back to Table of Contents</a>\n",
    "\n",
    "* **Purpose:** Explore and visualize the data to uncover patterns, trends, and relationships.\n",
    "* **Details:** Use statistics and visualizations to explore the data. This may include histograms, box plots, scatter plots, and correlation matrices. Discuss any significant findings.\n",
    "---\n"
   ]
  },
  {
   "cell_type": "code",
   "execution_count": 15,
   "metadata": {},
   "outputs": [],
   "source": [
    "#Please use code cells to code in and do not forget to comment your code."
   ]
  },
  {
   "cell_type": "markdown",
   "metadata": {},
   "source": [
    " Histograms for All Numerical Columns"
   ]
  },
  {
   "cell_type": "markdown",
   "metadata": {},
   "source": [
    " box plot comparing different vegetables"
   ]
  },
  {
   "cell_type": "markdown",
   "metadata": {},
   "source": [
    " Scatter Plots"
   ]
  },
  {
   "cell_type": "markdown",
   "metadata": {},
   "source": [
    "Correlation Matrix"
   ]
  },
  {
   "cell_type": "markdown",
   "metadata": {},
   "source": [
    "---\n",
    "<a href=#six></a>\n",
    "## **Modeling**\n",
    "<a href=#cont>Back to Table of Contents</a>\n",
    "\n",
    "* **Purpose:** Develop and train predictive or statistical models.\n",
    "* **Details:** Describe the choice of models, feature selection and engineering processes, and show how the models are trained. Include code for setting up the models and explanations of the model parameters.\n",
    "---\n"
   ]
  },
  {
   "cell_type": "code",
   "execution_count": 21,
   "metadata": {},
   "outputs": [],
   "source": [
    "#Please use code cells to code in and do not forget to comment your code."
   ]
  },
  {
   "cell_type": "markdown",
   "metadata": {},
   "source": [
    "---\n",
    "<a href=#seven></a>\n",
    "## **Evaluation and Validation**\n",
    "<a href=#cont>Back to Table of Contents</a>\n",
    "\n",
    "* **Purpose:** Evaluate and validate the effectiveness and accuracy of the models.\n",
    "* **Details:** Present metrics used to evaluate the models, such as accuracy, precision, recall, F1-score, etc. Discuss validation techniques employed, such as cross-validation or train/test split.\n",
    "---"
   ]
  },
  {
   "cell_type": "code",
   "execution_count": 22,
   "metadata": {},
   "outputs": [],
   "source": [
    "#Please use code cells to code in and do not forget to comment your code."
   ]
  },
  {
   "cell_type": "markdown",
   "metadata": {},
   "source": [
    "---\n",
    "<a href=#eight></a>\n",
    "## **Final Model**\n",
    "<a href=#cont>Back to Table of Contents</a>\n",
    "\n",
    "* **Purpose:** Present the final model and its performance.\n",
    "* **Details:** Highlight the best-performing model and discuss its configuration, performance, and why it was chosen over others.\n",
    "---\n"
   ]
  },
  {
   "cell_type": "code",
   "execution_count": 23,
   "metadata": {},
   "outputs": [],
   "source": [
    "#Please use code cells to code in and do not forget to comment your code."
   ]
  },
  {
   "cell_type": "markdown",
   "metadata": {},
   "source": [
    "---\n",
    "<a href=#nine></a>\n",
    "## **Conclusion and Future Work**\n",
    "<a href=#cont>Back to Table of Contents</a>\n",
    "\n",
    "* **Purpose:** Summarize the findings and discuss future directions.\n",
    "* **Details:** Conclude with a summary of the results, insights gained, limitations of the study, and suggestions for future projects or improvements in methodology or data collection.\n",
    "---\n"
   ]
  },
  {
   "cell_type": "code",
   "execution_count": 24,
   "metadata": {},
   "outputs": [],
   "source": [
    "#Please use code cells to code in and do not forget to comment your code."
   ]
  },
  {
   "cell_type": "markdown",
   "metadata": {},
   "source": [
    "---\n",
    "<a href=#ten></a>\n",
    "## **References**\n",
    "<a href=#cont>Back to Table of Contents</a>\n",
    "\n",
    "* **Purpose:** Provide citations and sources of external content.\n",
    "* **Details:** List all the references and sources consulted during the project, including data sources, research papers, and documentation for tools and libraries used.\n",
    "---"
   ]
  },
  {
   "cell_type": "code",
   "execution_count": 25,
   "metadata": {},
   "outputs": [],
   "source": [
    "#Please use code cells to code in and do not forget to comment your code."
   ]
  },
  {
   "cell_type": "markdown",
   "metadata": {},
   "source": [
    "## Additional Sections to Consider\n",
    "\n",
    "* ### Appendix: \n",
    "For any additional code, detailed tables, or extended data visualizations that are supplementary to the main content.\n",
    "\n",
    "* ### Contributors: \n",
    "If this is a group project, list the contributors and their roles or contributions to the project.\n"
   ]
  }
 ],
 "metadata": {
  "kernelspec": {
   "display_name": "Python 3",
   "language": "python",
   "name": "python3"
  },
  "language_info": {
   "codemirror_mode": {
    "name": "ipython",
    "version": 3
   },
   "file_extension": ".py",
   "mimetype": "text/x-python",
   "name": "python",
   "nbconvert_exporter": "python",
   "pygments_lexer": "ipython3",
   "version": "3.12.3"
  },
  "orig_nbformat": 4
 },
 "nbformat": 4,
 "nbformat_minor": 2
}
